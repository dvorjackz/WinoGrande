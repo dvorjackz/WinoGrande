{
 "cells": [
  {
   "cell_type": "markdown",
   "metadata": {},
   "source": [
    "# Training GCN"
   ]
  },
  {
   "cell_type": "code",
   "execution_count": 4,
   "metadata": {},
   "outputs": [],
   "source": [
    "import torch\n",
    "import torch.nn as nn\n",
    "import torch.nn.functional as F\n",
    "import torch.optim as optim\n",
    "from torch.utils.data import Dataset, DataLoader\n",
    "\n",
    "import dgl\n",
    "from dgl import DGLGraph\n",
    "from dgl.data import MiniGCDataset\n",
    "import dgl.function as fn\n",
    "from dgl.data.utils import load_graphs\n",
    "\n",
    "import numpy as np\n",
    "import pandas as pd\n",
    "\n",
    "import spacy\n",
    "import collections\n",
    "\n",
    "import os"
   ]
  },
  {
   "cell_type": "markdown",
   "metadata": {},
   "source": [
    "## Load Data"
   ]
  },
  {
   "cell_type": "code",
   "execution_count": 3,
   "metadata": {},
   "outputs": [],
   "source": [
    "size = 'xs'"
   ]
  },
  {
   "cell_type": "code",
   "execution_count": 145,
   "metadata": {},
   "outputs": [],
   "source": [
    "cls_tokens = torch.load('data/X_train_cls_tokens_{}.bin'.format(size))\n",
    "gcn_offsets = torch.load(\"data/X_train_gcn_offsets_{}.bin\".format(size))\n",
    "all_graphs, _ = load_graphs(\"data/X_train_graphs_{}.bin\".format(size))\n",
    "\n",
    "y_data = torch.load('data/y_{}.pt'.format(size))"
   ]
  },
  {
   "cell_type": "markdown",
   "metadata": {},
   "source": [
    "# Model Building"
   ]
  },
  {
   "cell_type": "markdown",
   "metadata": {},
   "source": [
    "## RGCN Layer"
   ]
  },
  {
   "cell_type": "code",
   "execution_count": 146,
   "metadata": {},
   "outputs": [],
   "source": [
    "class RGCNLayer(nn.Module):\n",
    "    def __init__(self, feat_size, num_rels, activation=None, gated = True):\n",
    "        \n",
    "        super(RGCNLayer, self).__init__()\n",
    "        self.feat_size = feat_size\n",
    "        self.num_rels = num_rels\n",
    "        self.activation = activation\n",
    "        self.gated = gated\n",
    "\n",
    "        self.weight = nn.Parameter(torch.Tensor(self.num_rels, self.feat_size, 256))\n",
    "        # init trainable parameters\n",
    "        nn.init.xavier_uniform_(self.weight,gain=nn.init.calculate_gain('relu'))\n",
    "        \n",
    "        if self.gated:\n",
    "            self.gate_weight = nn.Parameter(torch.Tensor(self.num_rels, self.feat_size, 1))\n",
    "            nn.init.xavier_uniform_(self.gate_weight,gain=nn.init.calculate_gain('sigmoid'))\n",
    "        \n",
    "    def forward(self, g):\n",
    "        \n",
    "        weight = self.weight\n",
    "        gate_weight = self.gate_weight\n",
    "        \n",
    "        def message_func(edges):\n",
    "            w = weight[edges.data['rel_type']]\n",
    "            msg = torch.bmm(edges.src['h'].unsqueeze(1), w).squeeze()\n",
    "            msg = msg * edges.data['norm']\n",
    "            \n",
    "            if self.gated:\n",
    "                gate_w = gate_weight[edges.data['rel_type']]\n",
    "                gate = torch.bmm(edges.src['h'].unsqueeze(1), gate_w).squeeze().reshape(-1,1)\n",
    "                gate = torch.sigmoid(gate)\n",
    "                msg = msg * gate\n",
    "                \n",
    "            return {'msg': msg}\n",
    "    \n",
    "        def apply_func(nodes):\n",
    "            h = nodes.data['h']\n",
    "            h = self.activation(h)\n",
    "            return {'h': h}\n",
    "        g.update_all(message_func, fn.sum(msg='msg', out='h'), apply_func)"
   ]
  },
  {
   "cell_type": "markdown",
   "metadata": {},
   "source": [
    "## Define Full RGCN Model"
   ]
  },
  {
   "cell_type": "code",
   "execution_count": 147,
   "metadata": {},
   "outputs": [],
   "source": [
    "class RGCNModel(nn.Module):\n",
    "    def __init__(self, h_dim, num_rels, num_hidden_layers=1, gated = True):\n",
    "        super(RGCNModel, self).__init__()\n",
    "\n",
    "        self.h_dim = h_dim\n",
    "        self.num_rels = num_rels\n",
    "        self.num_hidden_layers = num_hidden_layers\n",
    "        self.gated = gated\n",
    "        \n",
    "        # create rgcn layers\n",
    "        self.build_model()\n",
    "       \n",
    "    def build_model(self):        \n",
    "        self.layers = nn.ModuleList() \n",
    "        for _ in range(self.num_hidden_layers):\n",
    "            rgcn_layer = RGCNLayer(self.h_dim, self.num_rels, activation=F.relu, gated = self.gated)\n",
    "            self.layers.append(rgcn_layer)\n",
    "    \n",
    "    def forward(self, g):\n",
    "        for layer in self.layers:\n",
    "            layer(g) # todo: maybe g = layer(g)??\n",
    "        \n",
    "        rst_hidden = []\n",
    "        for sub_g in dgl.unbatch(g):\n",
    "            rst_hidden.append(  sub_g.ndata['h']   )\n",
    "        return rst_hidden"
   ]
  },
  {
   "cell_type": "markdown",
   "metadata": {},
   "source": [
    "## Design the Main Model (R-GCN + FFNN)"
   ]
  },
  {
   "cell_type": "code",
   "execution_count": 156,
   "metadata": {},
   "outputs": [],
   "source": [
    "class Head(nn.Module):\n",
    "    \"\"\"The MLP submodule\"\"\"\n",
    "    def __init__(self, gcn_out_size: int, bert_out_size: int):\n",
    "        super().__init__()\n",
    "        self.bert_out_size = bert_out_size\n",
    "        self.gcn_out_size = gcn_out_size\n",
    "        \n",
    "        self.fc = nn.Sequential(\n",
    "            nn.BatchNorm1d(bert_out_size + gcn_out_size * 3),\n",
    "            nn.Dropout(0.5),\n",
    "            nn.Linear(bert_out_size + gcn_out_size * 3, 256),    \n",
    "            nn.ReLU(),\n",
    "            nn.BatchNorm1d(256),\n",
    "            nn.Dropout(0.5),\n",
    "            nn.Linear(256, 2), # todo: make sure 2 is fine.\n",
    "        )\n",
    "        for i, module in enumerate(self.fc):\n",
    "            if isinstance(module, (nn.BatchNorm1d, nn.BatchNorm2d)):\n",
    "                nn.init.constant_(module.weight, 1)\n",
    "                nn.init.constant_(module.bias, 0)\n",
    "            elif isinstance(module, nn.Linear):\n",
    "                if getattr(module, \"weight_v\", None) is not None:\n",
    "                    nn.init.uniform_(module.weight_g, 0, 1)\n",
    "                    nn.init.kaiming_normal_(module.weight_v)\n",
    "                    assert model[i].weight_g is not None\n",
    "                else:\n",
    "                    nn.init.kaiming_normal_(module.weight)\n",
    "                nn.init.constant_(module.bias, 0)\n",
    "                \n",
    "    def forward(self, gcn_outputs, offsets_gcn, bert_embeddings):\n",
    "        \n",
    "        gcn_extracted_outputs = [gcn_outputs[i].unsqueeze(0).gather(1, offsets_gcn[i].unsqueeze(0).unsqueeze(2)\n",
    "                                       .expand(-1, -1, gcn_outputs[i].unsqueeze(0).size(2))).view(gcn_outputs[i].unsqueeze(0).size(0), -1) for i in range(len(gcn_outputs))]\n",
    "        \n",
    "        gcn_extracted_outputs = torch.stack(gcn_extracted_outputs, dim=0).squeeze()\n",
    "        \n",
    "        embeddings = torch.cat((gcn_extracted_outputs, bert_embeddings), 1) \n",
    "        \n",
    "        return self.fc(embeddings)    \n",
    "    \n",
    "    \n",
    "class GPRModel(nn.Module):\n",
    "    \"\"\"The main model.\"\"\"\n",
    "    def __init__(self):\n",
    "        super().__init__()\n",
    "        self.RGCN =  RGCNModel(h_dim = 1024, num_rels = 3, gated = True)\n",
    "#         self.BERThead = BERT_Head(1024) # bert output size\n",
    "        self.head = Head(256, 1024)  # gcn output   berthead output\n",
    "    \n",
    "    \n",
    "    def forward(self, g, offsets_gcn, cls_token):\n",
    "        gcn_outputs = self.RGCN(g)\n",
    "#         print(gcn_outputs.shape)\n",
    "        bert_head_outputs = cls_token\n",
    "        head_outputs = self.head(gcn_outputs, offsets_gcn, bert_head_outputs)\n",
    "        return head_outputs"
   ]
  },
  {
   "cell_type": "code",
   "execution_count": 149,
   "metadata": {},
   "outputs": [],
   "source": [
    "class GPRDataset(Dataset):\n",
    "    def __init__(self, graphs, gcn_offsets, cls_tokens, labels):\n",
    "\n",
    "        self.graphs = graphs\n",
    "        self.cls_tokens = cls_tokens\n",
    "        self.gcn_offsets = gcn_offsets\n",
    "        self.y = labels\n",
    "        \n",
    "    def __len__(self):\n",
    "        return len(self.graphs)\n",
    "\n",
    "    def __getitem__(self, idx):\n",
    "        return self.graphs[idx], self.gcn_offsets[idx], self.cls_tokens[idx], self.y[idx]"
   ]
  },
  {
   "cell_type": "code",
   "execution_count": 150,
   "metadata": {},
   "outputs": [],
   "source": [
    "train_dataset = GPRDataset(all_graphs, gcn_offsets, cls_tokens, y_data)"
   ]
  },
  {
   "cell_type": "code",
   "execution_count": 151,
   "metadata": {},
   "outputs": [],
   "source": [
    "def collate(samples):\n",
    "    \n",
    "    graphs, gcn_offsets, cls_tokens, labels = map(list, zip(*samples))\n",
    "    \n",
    "    batched_graph = dgl.batch(graphs)\n",
    "    offsets_gcn = torch.stack([torch.LongTensor(x) for x in gcn_offsets], dim=0)\n",
    "    \n",
    "    cls_tokens = torch.stack(cls_tokens, dim=0).squeeze()\n",
    "    \n",
    "    labels = torch.stack(labels)\n",
    "    \n",
    "    \n",
    "    return batched_graph, offsets_gcn, cls_tokens, labels"
   ]
  },
  {
   "cell_type": "code",
   "execution_count": 152,
   "metadata": {},
   "outputs": [],
   "source": [
    "train_dataloader = DataLoader(\n",
    "   train_dataset,\n",
    "   collate_fn = collate,\n",
    "   batch_size = 4,\n",
    "   shuffle=False,\n",
    ")"
   ]
  },
  {
   "cell_type": "code",
   "execution_count": null,
   "metadata": {},
   "outputs": [
    {
     "name": "stdout",
     "output_type": "stream",
     "text": [
      "[1,    20] loss: 4.147\n"
     ]
    }
   ],
   "source": [
    "model = GPRModel()\n",
    "criterion = nn.BCEWithLogitsLoss()\n",
    "optimizer = torch.optim.Adam(model.parameters(), lr=1e-5, weight_decay=1e-5)\n",
    "\n",
    "reg_lambda = 0.035\n",
    "\n",
    "save_model_name = \"exp_model.pt\"\n",
    "\n",
    "for epoch in range(2):  # loop over the dataset multiple times\n",
    "\n",
    "        running_loss = 0.0\n",
    "        for i, data in enumerate(train_dataloader, 0):\n",
    "        # get the inputs; data is a list of [inputs, labels]\n",
    "            graphs, gcn_offsets, cls_tokens, labels = data\n",
    "#             inputs, labels = inputs.to(device), labels.to(device)\n",
    "\n",
    "            # zero the parameter gradients\n",
    "            optimizer.zero_grad()\n",
    "            # forward + backward + optimize\n",
    "            outputs = model(graphs, gcn_offsets, cls_tokens)\n",
    "            \n",
    "#             print(outputs)\n",
    "            \n",
    "#             print(outputs, labels)\n",
    "            \n",
    "            l2_reg = None\n",
    "            for w in model.RGCN.parameters():\n",
    "                if not l2_reg:\n",
    "                    l2_reg = w.norm(2)\n",
    "                else:\n",
    "                    l2_reg = l2_reg + w.norm(2)  \n",
    "            for w in model.head.parameters():\n",
    "                if not l2_reg:\n",
    "                    l2_reg = w.norm(2)\n",
    "                else:\n",
    "                    l2_reg = l2_reg + w.norm(2)\n",
    "            \n",
    "            loss = criterion(outputs, labels) + l2_reg * reg_lambda\n",
    "            loss.backward()\n",
    "            optimizer.step()\n",
    "            # print statistics\n",
    "\n",
    "            running_loss += loss.item()\n",
    "\n",
    "            if i % 20 == 19:    # print every 20 mini-batches\n",
    "                print('[%d, %5d] loss: %.3f' % (epoch + 1, i + 1, running_loss/20))\n",
    "                running_loss = 0.0\n",
    "\n",
    "        torch.save(model, save_model_name)"
   ]
  },
  {
   "cell_type": "code",
   "execution_count": null,
   "metadata": {},
   "outputs": [],
   "source": []
  }
 ],
 "metadata": {
  "kernelspec": {
   "display_name": "Python 3",
   "language": "python",
   "name": "python3"
  },
  "language_info": {
   "codemirror_mode": {
    "name": "ipython",
    "version": 3
   },
   "file_extension": ".py",
   "mimetype": "text/x-python",
   "name": "python",
   "nbconvert_exporter": "python",
   "pygments_lexer": "ipython3",
   "version": "3.7.0"
  }
 },
 "nbformat": 4,
 "nbformat_minor": 4
}
